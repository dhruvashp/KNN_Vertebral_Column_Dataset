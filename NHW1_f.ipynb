{
 "cells": [
  {
   "cell_type": "code",
   "execution_count": 1,
   "metadata": {},
   "outputs": [
    {
     "data": {
      "text/plain": [
       "'\\nHW1 f\\n\\nThe lowest training error was obtained as:\\n    \\n0;when k was fixed at 1 (obviously, trivial)\\n\\n0;when weights were used in line with vector distance from a point\\n\\n0.13333;when no weights were used and we considered k>1 (again obviously) this was the lowest\\nthat the training error got across multiple methods\\n\\n'"
      ]
     },
     "execution_count": 1,
     "metadata": {},
     "output_type": "execute_result"
    }
   ],
   "source": [
    "# -*- coding: utf-8 -*-\n",
    "\"\"\"\n",
    "Created on Sat Sep 19 00:22:12 2020\n",
    "\n",
    "@author: DHRUV\n",
    "\"\"\"\n",
    "\n",
    "\n",
    "\"\"\"\n",
    "HW1 f\n",
    "\n",
    "The lowest training error was obtained as:\n",
    "    \n",
    "0;when k was fixed at 1 (obviously, trivial)\n",
    "\n",
    "0;when weights were used in line with vector distance from a point\n",
    "\n",
    "0.13333;when no weights were used and we considered k>1 (again obviously) this was the lowest\n",
    "that the training error got across multiple methods\n",
    "\n",
    "\"\"\""
   ]
  },
  {
   "cell_type": "code",
   "execution_count": null,
   "metadata": {},
   "outputs": [],
   "source": []
  }
 ],
 "metadata": {
  "kernelspec": {
   "display_name": "Python 3",
   "language": "python",
   "name": "python3"
  },
  "language_info": {
   "codemirror_mode": {
    "name": "ipython",
    "version": 3
   },
   "file_extension": ".py",
   "mimetype": "text/x-python",
   "name": "python",
   "nbconvert_exporter": "python",
   "pygments_lexer": "ipython3",
   "version": "3.7.6"
  }
 },
 "nbformat": 4,
 "nbformat_minor": 4
}
