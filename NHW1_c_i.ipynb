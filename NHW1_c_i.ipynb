{
 "cells": [
  {
   "cell_type": "code",
   "execution_count": 1,
   "metadata": {},
   "outputs": [
    {
     "name": "stdout",
     "output_type": "stream",
     "text": [
      "         a      b      c      d       e      f  O\n",
      "0    63.03  22.55  39.61  40.48   98.67  -0.25  1\n",
      "1    39.06  10.06  25.02  29.00  114.41   4.56  1\n",
      "2    68.83  22.22  50.09  46.61  105.99  -3.53  1\n",
      "3    69.30  24.65  44.31  44.64  101.87  11.21  1\n",
      "4    49.71   9.65  28.32  40.06  108.17   7.92  1\n",
      "..     ...    ...    ...    ...     ...    ... ..\n",
      "205  67.29  16.72  51.00  50.57  137.59   4.96  0\n",
      "206  51.33  13.63  33.26  37.69  131.31   1.79  0\n",
      "207  65.76  13.21  44.00  52.55  129.39  -1.98  0\n",
      "208  40.41  -1.33  30.98  41.74  119.34  -6.17  0\n",
      "209  48.80  18.02  52.00  30.78  139.15  10.44  0\n",
      "\n",
      "[210 rows x 7 columns]\n",
      "        a      b       c      d       e       f  O\n",
      "0   69.56  15.40   74.44  54.16  105.07   29.70  1\n",
      "1   89.50  48.90   72.00  40.60  134.63  118.35  1\n",
      "2   85.29  18.28  100.74  67.01  110.66   58.88  1\n",
      "3   60.63  20.60   64.54  40.03  117.23  104.86  1\n",
      "4   60.04  14.31   58.04  45.73  105.13   30.41  1\n",
      "..    ...    ...     ...    ...     ...     ... ..\n",
      "95  47.90  13.62   36.00  34.29  117.45   -4.25  0\n",
      "96  53.94  20.72   29.22  33.22  114.37   -0.42  0\n",
      "97  61.45  22.69   46.17  38.75  125.67   -2.71  0\n",
      "98  45.25   8.69   41.58  36.56  118.55    0.21  0\n",
      "99  33.84   5.07   36.64  28.77  123.95   -0.20  0\n",
      "\n",
      "[100 rows x 7 columns]\n",
      "       0     1      2      3       4    5\n",
      "0  33.84  5.07  36.64  28.77  123.95 -0.2\n",
      "[0]\n",
      "[1 1 1 1 1 1 1 1 1 1 1 1 1 1 1 1 1 1 1 1 1 1 1 1 1 1 1 1 1 1 1 1 1 1 1 1 1\n",
      " 1 1 1 1 1 1 1 1 1 1 1 1 1 1 1 1 1 1 1 1 1 1 1 1 1 1 1 1 1 1 1 1 1 1 0 0 0\n",
      " 0 0 0 1 0 0 1 1 0 0 0 0 1 1 0 1 0 0 1 0 0 1 1 0 0 0]\n"
     ]
    },
    {
     "data": {
      "text/plain": [
       "'\\nThe above code gives the prediction on the test data using the KNN algorithm using\\nin built functions. Using various other attributes of the inbuilt KNeighborsClassifier\\nfunction we can perform different sorts of analysis on the features and predictions of/on our\\ndataset (test and training both).\\n\\n\\n'"
      ]
     },
     "execution_count": 1,
     "metadata": {},
     "output_type": "execute_result"
    }
   ],
   "source": [
    "# -*- coding: utf-8 -*-\n",
    "\"\"\"\n",
    "Created on Thu Sep 17 19:02:32 2020\n",
    "\n",
    "@author: DHRUV\n",
    "\"\"\"\n",
    "\n",
    "\n",
    "import pandas as pd\n",
    "import numpy as np\n",
    "import seaborn as sns\n",
    "import matplotlib.pyplot as plt\n",
    "import sklearn as lrn\n",
    "from sklearn.neighbors import KNeighborsClassifier\n",
    "\n",
    "df_train=pd.read_csv('TrainingData.csv',index_col=0)\n",
    "print(df_train)\n",
    "\n",
    "df_test=pd.read_csv('TestData.csv',index_col=0)\n",
    "print(df_test)\n",
    "\n",
    "\n",
    "\"\"\"\n",
    "HW1 1 (c) (i)\n",
    "\n",
    "KNN\n",
    "\n",
    "We'll use in-built functions \n",
    "\n",
    "\"\"\"\n",
    "X=df_train.drop(columns=['O'])\n",
    "y=df_train['O']\n",
    "knn = KNeighborsClassifier(n_neighbors=5,weights='uniform',algorithm='auto',metric='minkowski',p=2)\n",
    "knn.fit(X,y)\n",
    "l=np.array([[33.84,5.07,36.64,28.77,123.95,-0.20]])\n",
    "mock = pd.DataFrame(l)\n",
    "print(mock)\n",
    "prediction = knn.predict(mock)\n",
    "print(prediction)\n",
    "\n",
    "\"\"\"\n",
    "p=2 makes the distance metric Euclidean\n",
    "\n",
    "All other functions used which are available in-built\n",
    "\n",
    "\"\"\"\n",
    "Z=df_test.drop(columns=['O'])\n",
    "test_prediction = knn.predict(Z)\n",
    "print(test_prediction)\n",
    "\n",
    "\"\"\"\n",
    "The above code gives the prediction on the test data using the KNN algorithm using\n",
    "in built functions. Using various other attributes of the inbuilt KNeighborsClassifier\n",
    "function we can perform different sorts of analysis on the features and predictions of/on our\n",
    "dataset (test and training both).\n",
    "\n",
    "\n",
    "\"\"\"\n",
    "\n",
    "\n",
    "\n",
    "\n"
   ]
  },
  {
   "cell_type": "code",
   "execution_count": null,
   "metadata": {},
   "outputs": [],
   "source": []
  }
 ],
 "metadata": {
  "kernelspec": {
   "display_name": "Python 3",
   "language": "python",
   "name": "python3"
  },
  "language_info": {
   "codemirror_mode": {
    "name": "ipython",
    "version": 3
   },
   "file_extension": ".py",
   "mimetype": "text/x-python",
   "name": "python",
   "nbconvert_exporter": "python",
   "pygments_lexer": "ipython3",
   "version": "3.7.6"
  }
 },
 "nbformat": 4,
 "nbformat_minor": 4
}
